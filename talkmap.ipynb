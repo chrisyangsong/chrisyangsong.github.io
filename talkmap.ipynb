{
 "cells": [
  {
   "cell_type": "markdown",
   "metadata": {},
   "source": [
    "# Leaflet cluster map of talk locations\n",
    "\n",
    "Run this from the _talks/ directory, which contains .md files of all your talks. This scrapes the location YAML field from each .md file, geolocates it with geopy/Nominatim, and uses the getorg library to output data, HTML, and Javascript for a standalone cluster map."
   ]
  },
  {
   "cell_type": "code",
   "execution_count": 1,
   "metadata": {
    "collapsed": false
   },
   "outputs": [
    {
     "name": "stdout",
     "output_type": "stream",
     "text": [
      "Collecting getorg\n",
      "  Downloading getorg-0.3.1-py2.py3-none-any.whl (39 kB)\n",
      "Requirement already satisfied: geopy in /Users/chrissong/anaconda3/lib/python3.10/site-packages (from getorg) (2.3.0)\n",
      "Collecting retrying\n",
      "  Downloading retrying-1.3.4-py3-none-any.whl (11 kB)\n",
      "Collecting pygithub\n",
      "  Downloading PyGithub-2.1.1-py3-none-any.whl (302 kB)\n",
      "\u001b[2K     \u001b[90m━━━━━━━━━━━━━━━━━━━━━━━━━━━━━━━━━━━━━━━\u001b[0m \u001b[32m302.9/302.9 kB\u001b[0m \u001b[31m4.1 MB/s\u001b[0m eta \u001b[36m0:00:00\u001b[0m00:01\u001b[0m\n",
      "\u001b[?25hRequirement already satisfied: geographiclib<3,>=1.52 in /Users/chrissong/anaconda3/lib/python3.10/site-packages (from geopy->getorg) (2.0)\n",
      "Requirement already satisfied: pyjwt[crypto]>=2.4.0 in /Users/chrissong/anaconda3/lib/python3.10/site-packages (from pygithub->getorg) (2.4.0)\n",
      "Requirement already satisfied: urllib3>=1.26.0 in /Users/chrissong/anaconda3/lib/python3.10/site-packages (from pygithub->getorg) (1.26.14)\n",
      "Collecting pynacl>=1.4.0\n",
      "  Downloading PyNaCl-1.5.0-cp36-abi3-macosx_10_10_universal2.whl (349 kB)\n",
      "\u001b[2K     \u001b[90m━━━━━━━━━━━━━━━━━━━━━━━━━━━━━━━━━━━━━━\u001b[0m \u001b[32m349.9/349.9 kB\u001b[0m \u001b[31m11.4 MB/s\u001b[0m eta \u001b[36m0:00:00\u001b[0m\n",
      "\u001b[?25hCollecting Deprecated\n",
      "  Downloading Deprecated-1.2.14-py2.py3-none-any.whl (9.6 kB)\n",
      "Requirement already satisfied: python-dateutil in /Users/chrissong/anaconda3/lib/python3.10/site-packages (from pygithub->getorg) (2.8.1)\n",
      "Requirement already satisfied: requests>=2.14.0 in /Users/chrissong/anaconda3/lib/python3.10/site-packages (from pygithub->getorg) (2.28.1)\n",
      "Requirement already satisfied: typing-extensions>=4.0.0 in /Users/chrissong/anaconda3/lib/python3.10/site-packages (from pygithub->getorg) (4.4.0)\n",
      "Requirement already satisfied: six>=1.7.0 in /Users/chrissong/anaconda3/lib/python3.10/site-packages (from retrying->getorg) (1.16.0)\n",
      "Requirement already satisfied: cryptography>=3.3.1 in /Users/chrissong/anaconda3/lib/python3.10/site-packages (from pyjwt[crypto]>=2.4.0->pygithub->getorg) (39.0.1)\n",
      "Requirement already satisfied: cffi>=1.4.1 in /Users/chrissong/anaconda3/lib/python3.10/site-packages (from pynacl>=1.4.0->pygithub->getorg) (1.15.1)\n",
      "Requirement already satisfied: idna<4,>=2.5 in /Users/chrissong/anaconda3/lib/python3.10/site-packages (from requests>=2.14.0->pygithub->getorg) (3.4)\n",
      "Requirement already satisfied: certifi>=2017.4.17 in /Users/chrissong/anaconda3/lib/python3.10/site-packages (from requests>=2.14.0->pygithub->getorg) (2022.12.7)\n",
      "Requirement already satisfied: charset-normalizer<3,>=2 in /Users/chrissong/anaconda3/lib/python3.10/site-packages (from requests>=2.14.0->pygithub->getorg) (2.0.4)\n",
      "Requirement already satisfied: wrapt<2,>=1.10 in /Users/chrissong/anaconda3/lib/python3.10/site-packages (from Deprecated->pygithub->getorg) (1.14.1)\n",
      "Requirement already satisfied: pycparser in /Users/chrissong/anaconda3/lib/python3.10/site-packages (from cffi>=1.4.1->pynacl>=1.4.0->pygithub->getorg) (2.21)\n",
      "Installing collected packages: retrying, Deprecated, pynacl, pygithub, getorg\n",
      "Successfully installed Deprecated-1.2.14 getorg-0.3.1 pygithub-2.1.1 pynacl-1.5.0 retrying-1.3.4\n",
      "Iywidgets and ipyleaflet support disabled. You must be in a Jupyter notebook to use this feature.\n",
      "Error raised:\n",
      "No module named 'ipyleaflet'\n",
      "Check that you have enabled ipyleaflet in Jupyter with:\n",
      "    jupyter nbextension enable --py ipyleaflet\n"
     ]
    }
   ],
   "source": [
    "!pip install getorg --upgrade\n",
    "import glob\n",
    "import getorg\n",
    "from geopy import Nominatim"
   ]
  },
  {
   "cell_type": "code",
   "execution_count": 8,
   "metadata": {
    "collapsed": false
   },
   "outputs": [],
   "source": [
    "g = glob.glob(\"_talks/*.md\")"
   ]
  },
  {
   "cell_type": "code",
   "execution_count": 9,
   "metadata": {},
   "outputs": [
    {
     "data": {
      "text/plain": [
       "['_talks/2014-03-01-talk-3.md',\n",
       " '_talks/2014-02-01-talk-2.md',\n",
       " '_talks/2013-03-01-tutorial-1.md',\n",
       " '_talks/2012-03-01-talk-1.md']"
      ]
     },
     "execution_count": 9,
     "metadata": {},
     "output_type": "execute_result"
    }
   ],
   "source": [
    "g"
   ]
  },
  {
   "cell_type": "code",
   "execution_count": 10,
   "metadata": {
    "collapsed": true
   },
   "outputs": [],
   "source": [
    "geocoder = Nominatim(user_agent=\"http\")\n",
    "location_dict = {}\n",
    "location = \"\"\n",
    "permalink = \"\"\n",
    "title = \"\""
   ]
  },
  {
   "cell_type": "code",
   "execution_count": 11,
   "metadata": {},
   "outputs": [
    {
     "data": {
      "text/plain": [
       "['_talks/2014-03-01-talk-3.md',\n",
       " '_talks/2014-02-01-talk-2.md',\n",
       " '_talks/2013-03-01-tutorial-1.md',\n",
       " '_talks/2012-03-01-talk-1.md']"
      ]
     },
     "execution_count": 11,
     "metadata": {},
     "output_type": "execute_result"
    }
   ],
   "source": [
    "g"
   ]
  },
  {
   "cell_type": "code",
   "execution_count": 12,
   "metadata": {
    "collapsed": false
   },
   "outputs": [
    {
     "name": "stdout",
     "output_type": "stream",
     "text": [
      "Los Angeles, CA \n",
      " Los Angeles, Los Angeles County, California, United States\n",
      "London, UK \n",
      " London, Greater London, England, United Kingdom\n",
      "Berkeley CA, USA \n",
      " Berkeley, Alameda County, California, United States\n",
      "San Francisco, California \n",
      " San Francisco, California, United States\n"
     ]
    }
   ],
   "source": [
    "\n",
    "for file in g:\n",
    "    with open(file, 'r') as f:\n",
    "        lines = f.read()\n",
    "        if lines.find('location: \"') > 1:\n",
    "            loc_start = lines.find('location: \"') + 11\n",
    "            lines_trim = lines[loc_start:]\n",
    "            loc_end = lines_trim.find('\"')\n",
    "            location = lines_trim[:loc_end]\n",
    "                            \n",
    "           \n",
    "        location_dict[location] = geocoder.geocode(location)\n",
    "        print(location, \"\\n\", location_dict[location])\n"
   ]
  },
  {
   "cell_type": "code",
   "execution_count": 13,
   "metadata": {
    "collapsed": false
   },
   "outputs": [
    {
     "ename": "ImportError",
     "evalue": "cannot import name 'markercluster_output' from 'getorg' (/Users/chrissong/anaconda3/lib/python3.10/site-packages/getorg/__init__.py)",
     "output_type": "error",
     "traceback": [
      "\u001b[0;31m---------------------------------------------------------------------------\u001b[0m",
      "\u001b[0;31mImportError\u001b[0m                               Traceback (most recent call last)",
      "Cell \u001b[0;32mIn[13], line 2\u001b[0m\n\u001b[1;32m      1\u001b[0m m \u001b[39m=\u001b[39m getorg\u001b[39m.\u001b[39morgmap\u001b[39m.\u001b[39mcreate_map_obj()\n\u001b[0;32m----> 2\u001b[0m getorg\u001b[39m.\u001b[39;49morgmap\u001b[39m.\u001b[39;49moutput_html_cluster_map(location_dict, folder_name\u001b[39m=\u001b[39;49m\u001b[39m\"\u001b[39;49m\u001b[39m../talkmap\u001b[39;49m\u001b[39m\"\u001b[39;49m, hashed_usernames\u001b[39m=\u001b[39;49m\u001b[39mFalse\u001b[39;49;00m)\n",
      "File \u001b[0;32m~/anaconda3/lib/python3.10/site-packages/getorg/orgmap.py:465\u001b[0m, in \u001b[0;36moutput_html_cluster_map\u001b[0;34m(org_location_dict, folder_name, hashed_usernames)\u001b[0m\n",
      "\u001b[0;31mImportError\u001b[0m: cannot import name 'markercluster_output' from 'getorg' (/Users/chrissong/anaconda3/lib/python3.10/site-packages/getorg/__init__.py)"
     ]
    }
   ],
   "source": [
    "m = getorg.orgmap.create_map_obj()\n",
    "getorg.orgmap.output_html_cluster_map(location_dict, folder_name=\"../talkmap\", hashed_usernames=False)"
   ]
  },
  {
   "cell_type": "code",
   "execution_count": null,
   "metadata": {
    "collapsed": true
   },
   "outputs": [],
   "source": []
  }
 ],
 "metadata": {
  "anaconda-cloud": {},
  "kernelspec": {
   "display_name": "base",
   "language": "python",
   "name": "python3"
  },
  "language_info": {
   "codemirror_mode": {
    "name": "ipython",
    "version": 3
   },
   "file_extension": ".py",
   "mimetype": "text/x-python",
   "name": "python",
   "nbconvert_exporter": "python",
   "pygments_lexer": "ipython3",
   "version": "3.10.9"
  }
 },
 "nbformat": 4,
 "nbformat_minor": 0
}
